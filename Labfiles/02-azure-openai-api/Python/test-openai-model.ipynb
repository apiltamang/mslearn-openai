{
 "cells": [
  {
   "cell_type": "code",
   "execution_count": 7,
   "metadata": {},
   "outputs": [],
   "source": [
    "import os"
   ]
  },
  {
   "cell_type": "code",
   "execution_count": 8,
   "metadata": {},
   "outputs": [],
   "source": [
    "from dotenv import load_dotenv"
   ]
  },
  {
   "cell_type": "code",
   "execution_count": 9,
   "metadata": {},
   "outputs": [
    {
     "data": {
      "text/plain": [
       "True"
      ]
     },
     "execution_count": 9,
     "metadata": {},
     "output_type": "execute_result"
    }
   ],
   "source": [
    "load_dotenv()"
   ]
  },
  {
   "cell_type": "code",
   "execution_count": 10,
   "metadata": {},
   "outputs": [],
   "source": [
    "azure_oai_endpoint = os.getenv(\"AZURE_OAI_ENDPOINT\")\n",
    "azure_oai_key = os.getenv(\"AZURE_OAI_KEY\")\n",
    "azure_oai_deployment = os.getenv(\"AZURE_OAI_DEPLOYMENT\")"
   ]
  },
  {
   "cell_type": "code",
   "execution_count": 11,
   "metadata": {},
   "outputs": [
    {
     "name": "stdout",
     "output_type": "stream",
     "text": [
      "https://oai-o1-preview-apil-instance.openai.azure.com/openai/deployments/gpt-4o-mini/chat/completions?api-version=2023-03-15-preview\n"
     ]
    }
   ],
   "source": [
    "print(azure_oai_endpoint)"
   ]
  },
  {
   "cell_type": "code",
   "execution_count": 18,
   "metadata": {},
   "outputs": [],
   "source": [
    "from openai import AzureOpenAI"
   ]
  },
  {
   "cell_type": "code",
   "execution_count": 19,
   "metadata": {},
   "outputs": [],
   "source": [
    "client = AzureOpenAI(azure_endpoint=azure_oai_endpoint, api_key=azure_oai_key, api_version=\"2023-03-15-preview\")"
   ]
  },
  {
   "cell_type": "code",
   "execution_count": 20,
   "metadata": {},
   "outputs": [],
   "source": [
    "# Create a system message\n",
    "system_message = \"\"\"I am a hiking enthusiast named Forest who helps people discover hikes in their area. \n",
    "    If no area is specified, I will default to near Rainier National Park. \n",
    "    I will then provide three suggestions for nearby hikes that vary in length. \n",
    "    I will also share an interesting fact about the local nature on the hikes when making a recommendation.\n",
    "    \"\"\""
   ]
  },
  {
   "cell_type": "code",
   "execution_count": 22,
   "metadata": {},
   "outputs": [],
   "source": [
    "response = client.chat.completions.create(\n",
    "    model=azure_oai_deployment,\n",
    "    temperature=0.7,\n",
    "    max_tokens=150,\n",
    "    messages=[\n",
    "        {\"role\": \"system\", \"content\": system_message},\n",
    "        {\"role\": \"user\", \"content\": \"What are some good hikes near Rainier National Park?\"}\n",
    "    ])"
   ]
  },
  {
   "cell_type": "code",
   "execution_count": 23,
   "metadata": {},
   "outputs": [],
   "source": [
    "generated_text = response.choices[0].message.content"
   ]
  },
  {
   "cell_type": "code",
   "execution_count": 24,
   "metadata": {},
   "outputs": [
    {
     "name": "stdout",
     "output_type": "stream",
     "text": [
      "Response: Here are three great hikes near Rainier National Park, each with a different length and difficulty level:\n",
      "\n",
      "1. **Nisqually Vista Trail**  \n",
      "   - **Length:** 1.2 miles (round trip)  \n",
      "   - **Difficulty:** Easy  \n",
      "   - **Description:** This trail offers stunning views of Mount Rainier and is a great option for families or those looking for a leisurely stroll.  \n",
      "   - **Interesting Fact:** The trail passes through a lovely subalpine forest and offers views of the Nisqually Glacier, which is a remnant of the last ice age!\n",
      "\n",
      "2. **Mirror Lake Trail**  \n",
      "   - **Length:** 2.5 miles (round trip)  \n",
      "   - **Difficulty:** Moderate  \n",
      "\n"
     ]
    }
   ],
   "source": [
    "print(\"Response: \" + generated_text)"
   ]
  },
  {
   "attachments": {},
   "cell_type": "markdown",
   "metadata": {},
   "source": [
    "## Maintain Conversation History"
   ]
  },
  {
   "cell_type": "code",
   "execution_count": 33,
   "metadata": {},
   "outputs": [
    {
     "name": "stdout",
     "output_type": "stream",
     "text": [
      "Ask me anything about world war II\n"
     ]
    }
   ],
   "source": []
  },
  {
   "cell_type": "code",
   "execution_count": 35,
   "metadata": {},
   "outputs": [
    {
     "name": "stdout",
     "output_type": "stream",
     "text": [
      "Ask me anything about world war II\n",
      "------------------------------------------------\n",
      "Response: The question of whether World War II could have been prevented is a complex and heavily debated topic among historians. Several factors contributed to the outbreak of the war, and various scenarios suggest potential avenues for prevention. Here are some key points to consider:\n",
      "\n",
      "1. **Treaty of Versailles**: The harsh penalties imposed on Germany after World War I created significant economic and political instability. Some historians argue that a more lenient treaty could have fostered a stable Germany and mitigated the rise of extremist movements like the Nazis.\n",
      "\n",
      "2. **Economic Factors**: The Great Depression had global consequences, severely affecting economies and leading to political instability. A more coordinated international response to the economic crisis might have reduced the appeal of extremist ideologies.\n",
      "\n",
      "3. **Appeasement\n",
      "------------------------------------------------\n",
      "Response: The United States' involvement in World War II evolved gradually and was influenced by multiple factors. Here are the key events that led to U.S. entry into the war:\n",
      "\n",
      "1. **Isolationism**: Initially, the U.S. maintained a policy of isolationism, avoiding direct involvement in European conflicts. The trauma of World War I and the Great Depression led many Americans to favor non-intervention.\n",
      "\n",
      "2. **Growing Concerns**: As the 1930s progressed, the aggressive expansion of Axis powers (Germany, Italy, and Japan) raised concerns. The invasion of China by Japan in 1937, the annexation of Austria, and the Munich Agreement in 1938 signaled the growing threat of fascism.\n",
      "\n",
      "3. **\n",
      "------------------------------------------------\n",
      "Response: World War II was won by the Allied Powers, which primarily included the United States, the Soviet Union, the United Kingdom, China, and France, among others. The war in Europe effectively ended with the unconditional surrender of Nazi Germany on May 8, 1945, known as V-E Day (Victory in Europe Day). In the Pacific, the war concluded with the surrender of Japan on September 2, 1945, following the dropping of atomic bombs on Hiroshima and Nagasaki in August of that year. This led to the formal establishment of a post-war order and significant geopolitical changes globally.\n",
      "------------------------------------------------\n",
      "Response: You're welcome! If you have any more questions about World War II or any other topic, feel free to ask. Happy to help!\n",
      "------------------------------------------------\n"
     ]
    }
   ],
   "source": [
    "messages_array = [{\"role\": \"system\", \"content\": \"I am a historian with specialization of World War II\"}]\n",
    "print(\"Ask me anything about world war II\")\n",
    "\n",
    "while True:\n",
    "    input_text = input(\"Enter the prompt (or type 'quit' to exit): \")\n",
    "    print(\"------------------------------------------------\")\n",
    "\n",
    "    if input_text.lower() == \"quit\":\n",
    "        break\n",
    "\n",
    "    messages_array.append({\"role\": \"user\", \"content\": input_text})\n",
    "\n",
    "    response = client.chat.completions.create(\n",
    "        model=azure_oai_deployment,\n",
    "        temperature=0.7,\n",
    "        max_tokens=150,\n",
    "        messages=messages_array)\n",
    "\n",
    "    generated_text = response.choices[0].message.content\n",
    "    print(\"Response: \" + generated_text)\n",
    "\n",
    "    messages_array.append({\"role\": \"assistant\", \"content\": generated_text})"
   ]
  },
  {
   "cell_type": "code",
   "execution_count": null,
   "metadata": {},
   "outputs": [],
   "source": []
  }
 ],
 "metadata": {
  "kernelspec": {
   "display_name": "ai-learn",
   "language": "python",
   "name": "python3"
  },
  "language_info": {
   "codemirror_mode": {
    "name": "ipython",
    "version": 3
   },
   "file_extension": ".py",
   "mimetype": "text/x-python",
   "name": "python",
   "nbconvert_exporter": "python",
   "pygments_lexer": "ipython3",
   "version": "3.11.9"
  },
  "orig_nbformat": 4,
  "vscode": {
   "interpreter": {
    "hash": "b6825e47c5122688069373c1c53c81fe3ca942cdeb5ae363f88ac19b8a5793ba"
   }
  }
 },
 "nbformat": 4,
 "nbformat_minor": 2
}
